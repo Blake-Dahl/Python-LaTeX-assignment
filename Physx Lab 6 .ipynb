{
 "cells": [
  {
   "cell_type": "code",
   "execution_count": 38,
   "id": "f11e7976",
   "metadata": {},
   "outputs": [],
   "source": [
    "import numpy as np"
   ]
  },
  {
   "cell_type": "code",
   "execution_count": 39,
   "id": "084a86f3",
   "metadata": {},
   "outputs": [
    {
     "name": "stdout",
     "output_type": "stream",
     "text": [
      "input delta A \n",
      "1\n",
      "input A \n",
      "1\n",
      "dQ =  1.0\n"
     ]
    }
   ],
   "source": [
    "def rule1(dA, A):\n",
    "    dQ = dA/A\n",
    "    return dQ\n",
    "dA = float(input(\"input delta A \\n\"))\n",
    "A = float(input(\"input A \\n\"))\n",
    "dQ = rule1(dA, A)\n",
    "print(\"dQ = \", dQ)"
   ]
  },
  {
   "cell_type": "code",
   "execution_count": 40,
   "id": "208a4863",
   "metadata": {},
   "outputs": [
    {
     "name": "stdout",
     "output_type": "stream",
     "text": [
      "input delta A \n",
      "1\n",
      "input A \n",
      "1\n",
      "input m \n",
      "1\n",
      "dQ = 1.0\n"
     ]
    }
   ],
   "source": [
    "def rule2(dA, A, m):\n",
    "    dQ = m*(dA/A)\n",
    "    return dQ\n",
    "dA = float(input(\"input delta A \\n\"))\n",
    "A = float(input(\"input A \\n\"))\n",
    "m = float(input(\"input m \\n\"))\n",
    "dQ = rule2(dA, A, m)\n",
    "print(\"dQ =\", dQ)"
   ]
  },
  {
   "cell_type": "code",
   "execution_count": 41,
   "id": "633258e4",
   "metadata": {},
   "outputs": [
    {
     "name": "stdout",
     "output_type": "stream",
     "text": [
      "input delta A \n",
      "1\n",
      "input delta B \n",
      "1\n",
      "dQ = 1.4142135623730951\n"
     ]
    }
   ],
   "source": [
    "def rule3(dA, dB):\n",
    "    dQ = np.sqrt(dA**2 + dB**2)\n",
    "    return dQ\n",
    "dA = float(input(\"input delta A \\n\"))\n",
    "dB = float(input(\"input delta B \\n\"))\n",
    "dQ = rule3(dA, dB)\n",
    "print(\"dQ =\", dQ)"
   ]
  },
  {
   "cell_type": "code",
   "execution_count": 42,
   "id": "ab7b0a1d",
   "metadata": {},
   "outputs": [
    {
     "name": "stdout",
     "output_type": "stream",
     "text": [
      "input delta A \n",
      "1\n",
      "input delta B \n",
      "1\n",
      "input A \n",
      "1\n",
      "input B \n",
      "1\n",
      "input m \n",
      "1\n",
      "input n \n",
      "1\n",
      "dQ = 1.4142135623730951\n"
     ]
    }
   ],
   "source": [
    "def rule4(dA, dB, A, B, m, n):\n",
    "    dQ = np.sqrt((((m*dA)/A)**2)+(((n*dB)/B)**2))\n",
    "    return dQ\n",
    "dA = float(input(\"input delta A \\n\"))\n",
    "dB = float(input(\"input delta B \\n\"))\n",
    "A = float(input(\"input A \\n\"))\n",
    "B = float(input(\"input B \\n\"))\n",
    "m = float(input(\"input m \\n\"))\n",
    "n = float(input(\"input n \\n\"))\n",
    "\n",
    "dQ = rule4(dA, dB, A, B, m, n)\n",
    "print(\"dQ =\", dQ)\n"
   ]
  },
  {
   "cell_type": "markdown",
   "id": "488e4df3",
   "metadata": {},
   "source": [
    "## Using these functions recalcuate δvi from Method 2 of last week’s ballistic pendulum lab"
   ]
  },
  {
   "cell_type": "code",
   "execution_count": 49,
   "id": "1e0cf6da",
   "metadata": {},
   "outputs": [
    {
     "name": "stdout",
     "output_type": "stream",
     "text": [
      "dQ = 0.0048496408809631155\n"
     ]
    }
   ],
   "source": [
    "def rule4(dA, dB, A, B, m, n):\n",
    "    dQ = np.sqrt((((m*dA)/A)**2)+(((n*dB)/B)**2))\n",
    "    return dQ\n",
    "dA = .635164020811\n",
    "dB = .5\n",
    "A = 153.41\n",
    "B = 99.0\n",
    "m = 1\n",
    "n = -1/2\n",
    "\n",
    "dQ = rule4(dA, dB, A, B, m, n)\n",
    "print(\"dQ =\", dQ)"
   ]
  },
  {
   "cell_type": "markdown",
   "id": "33d6eb52",
   "metadata": {},
   "source": [
    "The δvi calculation from python and from last weeks lab are the same."
   ]
  },
  {
   "cell_type": "code",
   "execution_count": 58,
   "id": "bfc06e5d",
   "metadata": {},
   "outputs": [
    {
     "name": "stdout",
     "output_type": "stream",
     "text": [
      "The mean of x is 1.1166666666666667 \n",
      "The standard error of the mean is 0.073282810879294\n"
     ]
    }
   ],
   "source": [
    "x = np.array([1.1, 1.3, 1.4, 0.9, 0.95, 1.05])\n",
    "\n",
    "avg_x = np.average(x)\n",
    "err_x = np.std(x)/np.sqrt(6)\n",
    "print(\"The mean of x is\", avg_x,\"\\nThe standard error of the mean is\", err_x)"
   ]
  },
  {
   "cell_type": "markdown",
   "id": "50bd13d5",
   "metadata": {},
   "source": [
    "$Q = \\sqrt{(\\delta A)^2 + (\\delta B)^2} $\n",
    "\n",
    "$\\delta v_i= \\sqrt{(\\frac{\\delta\\Delta\\bar{x}}{\\bar{x}})^2 + (\\frac{-\\delta\\Delta{y}}{2\\Delta{x}})^2} $"
   ]
  },
  {
   "cell_type": "code",
   "execution_count": null,
   "id": "9d38da1e",
   "metadata": {},
   "outputs": [],
   "source": []
  }
 ],
 "metadata": {
  "kernelspec": {
   "display_name": "Python 3 (ipykernel)",
   "language": "python",
   "name": "python3"
  },
  "language_info": {
   "codemirror_mode": {
    "name": "ipython",
    "version": 3
   },
   "file_extension": ".py",
   "mimetype": "text/x-python",
   "name": "python",
   "nbconvert_exporter": "python",
   "pygments_lexer": "ipython3",
   "version": "3.9.12"
  }
 },
 "nbformat": 4,
 "nbformat_minor": 5
}
